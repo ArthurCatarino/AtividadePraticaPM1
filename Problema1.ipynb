{
  "nbformat": 4,
  "nbformat_minor": 0,
  "metadata": {
    "colab": {
      "provenance": []
    },
    "kernelspec": {
      "name": "python3",
      "display_name": "Python 3"
    },
    "language_info": {
      "name": "python"
    }
  },
  "cells": [
    {
      "cell_type": "markdown",
      "source": [
        "Arthur Catarino de Oliveira  \n",
        "Guilherme Fidélis Freire  \n",
        "Mateus Poddis Correa"
      ],
      "metadata": {
        "id": "-R0LKKa8uSxO"
      }
    },
    {
      "cell_type": "markdown",
      "source": [
        "Neste exercicio criamos um subgrupo de aviões chamado AC que são os aviões que so podem ser pilotados por \"pilotos coringas\", no caso o MD-11, pilotos coringas sao pilotos que podem pilotar qualquer avião."
      ],
      "metadata": {
        "id": "G-pDoh9fuQRP"
      }
    },
    {
      "cell_type": "markdown",
      "source": [
        "##Dados\n",
        "- A: Conjunto dos aviões.\n",
        "- AC: Conjunto dos avioes que so podem ser pilotados por pilotos coringas.\n",
        "- PC: Pilotos coringas que podem pilotar qualquer avião.\n",
        "- Aci: Custo de compra do avião i, i E A.\n",
        "- Ali: Lucro gerado pelo avião i, i E A.\n",
        "- Api: Pilotos disponiveis para o avião i, i E (A - AC).\n",
        "- Ami: Custo de manutenção do avião i, i E A.\n",
        "- Vmax: Verba máxima disponivel para a compra de aviões.\n",
        "- Mmax: Capacidade maxima de manutenção maxima da oficina da empresa.\n",
        "\n",
        "##Variaveis de decisão\n",
        "- Xi, i E A, quantidade de aviões que serao comprados.\n",
        "- Yi, i E A, quantidade de pilotos coringas alocados para cada avião.\n",
        "\n",
        "##Função Objetivo:\n",
        "$$\n",
        "Maximizar: \\sum_{i E A}^{} X_i*Al_i\n",
        "$$\n",
        "\n",
        "##Restrições:\n",
        "1) Restrição que respeita a verba máxima da empresa, impedindo que seja gasto mais que o disponivel na compra dos aviões.\n",
        "\n",
        " $\\sum_{i E A}^{} X_i*Ac_i$ <= Vmax  \n",
        "\n",
        "\n",
        "2) Restrição que respeita a quantidade maxima de aviões que a ofinica da empresa teria capacidade de cuidar.\n",
        "\n",
        " $\\sum_{i EA}^{}X_i*Am_i$ <= Mmax\n",
        "\n",
        " 3) Restrição que respeita a quantidade maxima de pilotos coringas.\n",
        "\n",
        " $\\sum_{i EA}^{}Y_i$ <= PC\n",
        "\n",
        " 4) Restrição que garante que havera pilotos para os aviões comprados (Para aviões que tem nao sao pilotados somente por pilotos coringas).\n",
        "\n",
        "$X_i <= \\frac{Ap_i+Y_i}{2}$  $∀ i E (A-AC)$\n",
        "\n",
        "Para os aviões que so podem ser pilotados por pilotos coringas.\n",
        "\n",
        "$X_i <= \\frac{Y_i}{2}$  $∀ i E AC$  \n",
        "\n",
        "5) $X_i, Y_i$ >= 0 nao negatividade."
      ],
      "metadata": {
        "id": "0u3RWQPlnEl-"
      }
    },
    {
      "cell_type": "code",
      "execution_count": null,
      "metadata": {
        "colab": {
          "base_uri": "https://localhost:8080/"
        },
        "id": "MoFZA3ZOlfOG",
        "outputId": "f6b7820d-5ce2-4c75-8f1d-4166fd00bee4"
      },
      "outputs": [
        {
          "output_type": "stream",
          "name": "stdout",
          "text": [
            "Requirement already satisfied: pulp in /usr/local/lib/python3.12/dist-packages (3.3.0)\n"
          ]
        }
      ],
      "source": [
        "!pip install pulp\n",
        "import pulp"
      ]
    },
    {
      "cell_type": "markdown",
      "source": [
        "Organizamos os dados com um dicionario (nomeDoAviao,Objeto Aviao)."
      ],
      "metadata": {
        "id": "NoWzkos6mWUl"
      }
    },
    {
      "cell_type": "code",
      "source": [
        "class Aviao:\n",
        "  def __init__(self,custo,lucro,manutencao,pilotos,coringa):\n",
        "    self.custo = custo\n",
        "    self.lucro = lucro\n",
        "    self.manutencao = manutencao\n",
        "    self.pilotos = pilotos\n",
        "    self.coringa = coringa\n",
        "\n",
        "avioes = {\n",
        "  \"BOEING 717\":Aviao(5.1,330,1,30,False),\n",
        "  \"BOEING 737-500\":Aviao(3.6,300,0.75,20,False),\n",
        "  \"MD-11\":Aviao(6.8,420,1.67,0,True)\n",
        "}\n",
        "\n",
        "verbaMaxima = 220\n",
        "pilotosCoringa = 10\n",
        "CapacidadeManutencao = 40"
      ],
      "metadata": {
        "id": "ofV227lJmU9G"
      },
      "execution_count": null,
      "outputs": []
    },
    {
      "cell_type": "markdown",
      "source": [
        "Inicializando o modelo"
      ],
      "metadata": {
        "id": "kSkd1Go4my0w"
      }
    },
    {
      "cell_type": "code",
      "source": [
        "modelo = pulp.LpProblem(\"EmpresaDeViaçãoAéreaBrasileira\",pulp.LpMaximize)\n",
        "\n",
        "\n",
        "x = pulp.LpVariable.dicts(\"X\",list(avioes.keys()),lowBound=0)\n",
        "y = pulp.LpVariable.dicts(\"Y\",list(avioes.keys()),lowBound=0)"
      ],
      "metadata": {
        "id": "8h9IoYgFm0qW"
      },
      "execution_count": null,
      "outputs": []
    },
    {
      "cell_type": "markdown",
      "source": [
        "Função objetivo : $$\n",
        "Maximizar: \\sum_{i E A}^{} X_i*Al_i\n",
        "$$"
      ],
      "metadata": {
        "id": "yd7on3qRvUwe"
      }
    },
    {
      "cell_type": "code",
      "source": [
        "modelo += pulp.lpSum([x[i]*avioes[i].lucro  for i in x.keys()])"
      ],
      "metadata": {
        "id": "0orEEVEUvZoN"
      },
      "execution_count": null,
      "outputs": []
    },
    {
      "cell_type": "markdown",
      "source": [
        "Restrições:"
      ],
      "metadata": {
        "id": "4U4OF_tPvgKU"
      }
    },
    {
      "cell_type": "markdown",
      "source": [
        "1 - $\\sum_{i E A}^{} X_i*Ac_i$ <= Vmax  (Garante que o limite de verba seja respeitado)."
      ],
      "metadata": {
        "id": "vU8mikWWvqw-"
      }
    },
    {
      "cell_type": "code",
      "source": [
        "modelo += pulp.lpSum([x[i]*avioes[i].custo for i in x.keys()]) <= verbaMaxima"
      ],
      "metadata": {
        "id": "JV65tz9Xvu52"
      },
      "execution_count": null,
      "outputs": []
    },
    {
      "cell_type": "markdown",
      "source": [
        " 2 - $\\sum_{i EA}^{}X_i*Am_i$ <= Mmax (Garante que o limite de reparos da oficina seja respeitado)."
      ],
      "metadata": {
        "id": "OVuuKQ4Fv0o9"
      }
    },
    {
      "cell_type": "code",
      "source": [
        "modelo += pulp.lpSum([x[i]*avioes[i].manutencao for i in x.keys()]) <= CapacidadeManutencao"
      ],
      "metadata": {
        "id": "S7NnK3Oiv_ju"
      },
      "execution_count": null,
      "outputs": []
    },
    {
      "cell_type": "markdown",
      "source": [],
      "metadata": {
        "id": "L-rlsoTWwChl"
      }
    },
    {
      "cell_type": "markdown",
      "source": [
        "3 -  $\\sum_{i EA}^{}Y_i$ <= PC (Garante que o limite de pilotos coringas seja respeitado)."
      ],
      "metadata": {
        "id": "m8NgMHBNwQgF"
      }
    },
    {
      "cell_type": "code",
      "source": [
        "modelo+= pulp.lpSum(y[i] for i in y.keys()) <= pilotosCoringa"
      ],
      "metadata": {
        "id": "noDChx3uwUlN"
      },
      "execution_count": null,
      "outputs": []
    },
    {
      "cell_type": "markdown",
      "source": [
        "4 a) - $X_i <= \\frac{Ap_i+Y_i}{2}$  $∀ i E (A-AC)$ (Limita a compra de aviões ao numero de pilotos disponiveis para aquele avião)\n",
        "\n",
        "b) - $X_i <= \\frac{Y_i}{2}$  $∀ i E AC$ (Versão dos aviões que so podem ser pilotados por pilotos coringas)"
      ],
      "metadata": {
        "id": "YmLfVA9pwXhO"
      }
    },
    {
      "cell_type": "code",
      "source": [
        "for a in avioes.keys():\n",
        "  if(not avioes[a].coringa):\n",
        "    modelo += x[a] <= (avioes[a].pilotos+y[a])/2\n",
        "  else:\n",
        "    modelo += x[a] <= y[a]/2"
      ],
      "metadata": {
        "id": "UYcqeivRxAA4"
      },
      "execution_count": null,
      "outputs": []
    },
    {
      "cell_type": "markdown",
      "source": [
        "Imprimi o modelo\n"
      ],
      "metadata": {
        "id": "rcM9UziaxJ51"
      }
    },
    {
      "cell_type": "code",
      "source": [
        "print(modelo)"
      ],
      "metadata": {
        "colab": {
          "base_uri": "https://localhost:8080/"
        },
        "id": "jyCcDoeJxL9-",
        "outputId": "48ac15b8-093c-4778-f26a-47c1f7659788"
      },
      "execution_count": null,
      "outputs": [
        {
          "output_type": "stream",
          "name": "stdout",
          "text": [
            "EmpresaDeViaçãoAéreaBrasileira:\n",
            "MAXIMIZE\n",
            "330*X_BOEING_717 + 300*X_BOEING_737_500 + 420*X_MD_11 + 0.0\n",
            "SUBJECT TO\n",
            "_C1: X_BOEING_717 + 0.75 X_BOEING_737_500 + 1.67 X_MD_11 <= 40\n",
            "\n",
            "_C2: 5.1 X_BOEING_717 + 3.6 X_BOEING_737_500 + 6.8 X_MD_11 <= 220\n",
            "\n",
            "_C3: X_BOEING_717 + 0.75 X_BOEING_737_500 + 1.67 X_MD_11 <= 40\n",
            "\n",
            "_C4: Y_BOEING_717 + Y_BOEING_737_500 + Y_MD_11 <= 10\n",
            "\n",
            "_C5: X_BOEING_717 - 0.5 Y_BOEING_717 <= 15\n",
            "\n",
            "_C6: X_BOEING_737_500 - 0.5 Y_BOEING_737_500 <= 10\n",
            "\n",
            "_C7: X_MD_11 - 0.5 Y_MD_11 <= 0\n",
            "\n",
            "VARIABLES\n",
            "X_BOEING_717 Continuous\n",
            "X_BOEING_737_500 Continuous\n",
            "X_MD_11 Continuous\n",
            "Y_BOEING_717 Continuous\n",
            "Y_BOEING_737_500 Continuous\n",
            "Y_MD_11 Continuous\n",
            "\n"
          ]
        }
      ]
    },
    {
      "cell_type": "markdown",
      "source": [
        "Solução do problema"
      ],
      "metadata": {
        "id": "LuhbQcVXxeMF"
      }
    },
    {
      "cell_type": "code",
      "source": [
        "status = modelo.solve()\n",
        "print('Status: ', pulp.LpStatus[status])\n",
        "print('Funcao objetivo: ', round(modelo.objective.value(),2))\n",
        "print('Soluçoes')\n",
        "for i in x.keys():\n",
        "  print(\"X-\" + i,\": \",x[i].value())\n",
        "\n",
        "for i in x.keys():\n",
        "  print(\"Y-\" + i,\": \",y[i].value())"
      ],
      "metadata": {
        "colab": {
          "base_uri": "https://localhost:8080/"
        },
        "id": "H18zltyDxgIH",
        "outputId": "8218fdff-5e60-4d68-bcbe-6e0ad0e08740"
      },
      "execution_count": null,
      "outputs": [
        {
          "output_type": "stream",
          "name": "stdout",
          "text": [
            "Status:  Optimal\n",
            "Funcao objetivo:  10050.0\n",
            "Soluçoes\n",
            "X-BOEING 717 :  15.0\n",
            "X-BOEING 737-500 :  10.0\n",
            "X-MD-11 :  5.0\n",
            "Y-BOEING 717 :  0.0\n",
            "Y-BOEING 737-500 :  0.0\n",
            "Y-MD-11 :  10.0\n"
          ]
        }
      ]
    }
  ]
}