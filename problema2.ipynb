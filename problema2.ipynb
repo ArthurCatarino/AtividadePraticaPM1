{
  "nbformat": 4,
  "nbformat_minor": 0,
  "metadata": {
    "colab": {
      "provenance": []
    },
    "kernelspec": {
      "name": "python3",
      "display_name": "Python 3"
    },
    "language_info": {
      "name": "python"
    }
  },
  "cells": [
    {
      "cell_type": "markdown",
      "source": [
        "Arthur Catarino de Oliveira  \n",
        "Guilherme Fidélis Freire  \n",
        "Mateus Poddis Correa"
      ],
      "metadata": {
        "id": "QzKIhfa-6kcu"
      }
    },
    {
      "cell_type": "markdown",
      "source": [
        "Neste exercicio foi criado um subgrupo A para as semanas 1 e 2 que permitem a fabricação de camisas além do limite permitido semanalmente."
      ],
      "metadata": {
        "id": "kJ6JTtiM6qlp"
      }
    },
    {
      "cell_type": "markdown",
      "source": [
        "##Dados\n",
        "- S: Semanas do problema.\n",
        "- A: Semanas que permitem produção adicional.\n",
        "- Di:Demanda da semana i, i E S.\n",
        "- Ci: Custo de produção da semana i, i E S.\n",
        "- CEi: Custo de estoque da semana i, i E S.\n",
        "- CAj: Custo de produção adicional da semana j, j E A.\n",
        "- MaxProducao: Quantidade máxima de camisas produzidas por semana.\n",
        "- MaxAdicional: Quantidade máxima de camisas adicionais produzidas por semana.\n",
        "\n",
        "##Variaveis de decisão\n",
        "- Xi, i E S, quantidade de camisas produzidas na semana.\n",
        "- Ei, i E S, quantidade de camisas estocadas na semana.\n",
        "- XAj, j E A, quantidade de camisas adicionais produzidas na semana.\n",
        "\n",
        "##Função Objetivo:\n",
        "$$\n",
        "Minimizar: \\sum_{i E S}^{} (X_i*C_i+E_i*CE_i)  + \\sum_{j E A}^{} XA_j*CA_j\n",
        "$$\n",
        "\n",
        "##Restrições:\n",
        "1) Restrição que respeita o máximo de camisas produzidas na semana.\n",
        "\n",
        "$X_i <= MaxProducao$  $∀ i E S$\n",
        "\n",
        "2) Restrição que respeita o máximo de camisa adicionais produzida nas semanas permitidas.\n",
        "\n",
        "$XA_j <= MaxAdicional$  $∀ j E A$\n",
        "\n",
        "3) Restrição que garante que a produção da semana e o estoque da semana anterior atinjam a demanda.\n",
        "Caso: Semana 1(Não tem estoque e permite produção adicional).\n",
        "\n",
        "$X_1 + XA_1>= D_1$\n",
        "\n",
        "Caso: Semana 2(Com estoque e produção adicional).\n",
        "\n",
        "$X_2 + XA_2+E_1>= D_2$\n",
        "\n",
        "Restante das semanas(Com estoque, sem produção adicional).\n",
        "\n",
        "$X_i +E(i-1)>= D_i$\n",
        "\n",
        "4) Restrição que define o estoque. Para a semana 1 (Com produção adicional e sem estoque anterior).\n",
        "\n",
        "$X_1+XA_1 - D_i= E_1$\n",
        "\n",
        "Para a semana 2 (Com produção adicional e com estoque).\n",
        "\n",
        "$X_2+XA_2+E_1- D_i= E_2$\n",
        "\n",
        "Para o restante das semanas (Com estoque apenas).\n",
        "\n",
        "$X_i+E(i-1)-D_i= E_i$ $∀ i E S$\n",
        "\n",
        "5) Restrição para garantir que as variáveis não sejam menores que zero.\n",
        "\n",
        "$X_i>= 0$ $∀ i E S$\n",
        "\n",
        "$E_i>= 0$ $∀ i E S$\n",
        "\n",
        "$XA_j>= 0$ $∀ j E A$"
      ],
      "metadata": {
        "id": "3QCP8c0Z7Z-6"
      }
    },
    {
      "cell_type": "code",
      "source": [
        "!pip install pulp\n",
        "import pulp"
      ],
      "metadata": {
        "colab": {
          "base_uri": "https://localhost:8080/"
        },
        "id": "jm2ZbNV2HYhg",
        "outputId": "64c9b3a8-60e3-4863-a77e-10b78f3626cc"
      },
      "execution_count": null,
      "outputs": [
        {
          "output_type": "stream",
          "name": "stdout",
          "text": [
            "Requirement already satisfied: pulp in /usr/local/lib/python3.12/dist-packages (3.3.0)\n"
          ]
        }
      ]
    },
    {
      "cell_type": "markdown",
      "source": [
        "Os dados foram organizados em um dicionário(semana,Objeto Semana). Sendo que o objeto Semana possui informações de produção e estoque."
      ],
      "metadata": {
        "id": "RTBMX542JJQ3"
      }
    },
    {
      "cell_type": "code",
      "source": [
        "class Semana:\n",
        "  def __init__(self,demanda, custoProducao, custoEstoque, custoAdicional, prodAdicional):\n",
        "    self.demanda = demanda\n",
        "    self.custoProducao = custoProducao\n",
        "    self.custoEstoque = custoEstoque\n",
        "    self.custoAdicional = custoAdicional\n",
        "    self.prodAdicional = prodAdicional\n",
        "\n",
        "semanas = {\n",
        "  1 :Semana(5000, 2, 0.2, 2.8, True),\n",
        "  2 :Semana(10000, 2, 0.2, 2.8, True),\n",
        "  3 :Semana(30000, 2.5, 0.2, 0, False),\n",
        "  4 :Semana(60000, 2.5, 0.2, 0, False)\n",
        "}\n",
        "\n",
        "MaxProducao = 25000\n",
        "MaxAdicional = 10000"
      ],
      "metadata": {
        "id": "8XSmI2EyJeK1"
      },
      "execution_count": null,
      "outputs": []
    },
    {
      "cell_type": "markdown",
      "source": [
        "Inicializando o modelo"
      ],
      "metadata": {
        "id": "-AU73vyRLiOG"
      }
    },
    {
      "cell_type": "code",
      "source": [
        "modelo = pulp.LpProblem('Fábrica de Camisetas', pulp.LpMinimize)\n",
        "\n",
        "quantidadeSem = pulp.LpVariable.dicts('semana', list(semanas.keys()), lowBound=0)\n",
        "quantidadeEst = pulp.LpVariable.dicts('estoque', list(semanas.keys()), lowBound=0)\n",
        "quantidadeAd = pulp.LpVariable.dicts('adicional', list(semanas.keys()), lowBound=0)"
      ],
      "metadata": {
        "colab": {
          "base_uri": "https://localhost:8080/"
        },
        "id": "j2ymtbB2O8-4",
        "outputId": "444f59da-e021-49e3-c805-206ee2cc00ea"
      },
      "execution_count": null,
      "outputs": [
        {
          "output_type": "stream",
          "name": "stderr",
          "text": [
            "/usr/local/lib/python3.12/dist-packages/pulp/pulp.py:1489: UserWarning: Spaces are not permitted in the name. Converted to '_'\n",
            "  warnings.warn(\"Spaces are not permitted in the name. Converted to '_'\")\n"
          ]
        }
      ]
    },
    {
      "cell_type": "markdown",
      "source": [
        "##Função Objetivo:\n",
        "$$\n",
        "Minimizar: \\sum_{i E S}^{} (X_i*C_i+E_i*CE_i)  + \\sum_{j E A}^{} XA_j*CA_j\n",
        "$$"
      ],
      "metadata": {
        "id": "cLfXoQBpMBGF"
      }
    },
    {
      "cell_type": "code",
      "source": [
        "modelo += pulp.lpSum(quantidadeSem[i]*semanas[i].custoProducao + quantidadeEst[i]*semanas[i].custoEstoque\n",
        "                     for i in quantidadeSem.keys()) + pulp.lpSum(quantidadeAd[j]*semanas[j].custoAdicional for j in quantidadeAd.keys())"
      ],
      "metadata": {
        "id": "H9YB4U0cMH2M"
      },
      "execution_count": null,
      "outputs": []
    },
    {
      "cell_type": "markdown",
      "source": [
        "Restrições:"
      ],
      "metadata": {
        "id": "sWzwLYcFFV8Q"
      }
    },
    {
      "cell_type": "markdown",
      "source": [
        "1) $X_i <= MaxProducao$  $∀ i E S$ (Limita a produção)"
      ],
      "metadata": {
        "id": "SLGiOstTFuTK"
      }
    },
    {
      "cell_type": "code",
      "source": [
        "for i in quantidadeSem.keys():\n",
        "  modelo += quantidadeSem[i] <= MaxProducao"
      ],
      "metadata": {
        "id": "GWkrQsk6FysL"
      },
      "execution_count": null,
      "outputs": []
    },
    {
      "cell_type": "markdown",
      "source": [
        "2) $XA_j <= MaxAdicional$  $∀ j E A$ (Limita a produção adicional)"
      ],
      "metadata": {
        "id": "DF08uemBGZwA"
      }
    },
    {
      "cell_type": "code",
      "source": [
        "for j in quantidadeAd.keys():\n",
        "  modelo += quantidadeAd[j] <= MaxAdicional"
      ],
      "metadata": {
        "id": "7pOOwu4rGtpQ"
      },
      "execution_count": null,
      "outputs": []
    },
    {
      "cell_type": "markdown",
      "source": [
        "3) Garante que a demanda seja atendida.\n",
        "\n",
        "a) $X_1 + XA_1>= D_1$ (Semana 1, sem estoque e produção adicional).\n",
        "\n",
        "b) $X_2 + XA_2+E_1>= D_2$ (Semana 2, com estoque e produção adicional).\n",
        "\n",
        "c) $X_i +E(i-1)>= D_i$ (Restante das semanas, apenas com estoque)."
      ],
      "metadata": {
        "id": "OPygRNcXHNss"
      }
    },
    {
      "cell_type": "code",
      "source": [
        "for i in quantidadeSem.keys():\n",
        "  if(semanas[i].prodAdicional):\n",
        "    if(i == 1):\n",
        "      modelo += quantidadeSem[i] + quantidadeAd[i] >= semanas[i].demanda\n",
        "    else:\n",
        "      modelo += quantidadeSem[i] + quantidadeAd[i] + quantidadeEst[i-1] >= semanas[i].demanda\n",
        "  else:\n",
        "    modelo += quantidadeSem[i] + quantidadeEst[i - 1] >= semanas[i].demanda"
      ],
      "metadata": {
        "id": "03qnSDLeIUoO"
      },
      "execution_count": null,
      "outputs": []
    },
    {
      "cell_type": "markdown",
      "source": [
        "4) Define o estoque da semana.\n",
        "\n",
        "a) $X_1+XA_1 - D_i= E_1$ (Sem estoque anterior, e com produção adicional).\n",
        "\n",
        "b) $X_2+XA_2+E_1- D_i= E_2$ (Com estoque anterior e produção adicional).\n",
        "\n",
        "c) $X_i+E(i-1)-D_i= E_i$ $∀ i E S$(Com estoque apenas)."
      ],
      "metadata": {
        "id": "OVluqKXxJ8xH"
      }
    },
    {
      "cell_type": "code",
      "source": [
        "for i in quantidadeSem.keys():\n",
        "  if(semanas[i].prodAdicional):\n",
        "    if(i == 1):\n",
        "      modelo += quantidadeSem[i] + quantidadeAd[i] - semanas[i].demanda == quantidadeEst[i]\n",
        "    else:\n",
        "      modelo += quantidadeSem[i] + quantidadeAd[i] + quantidadeEst[i - 1] - semanas[i].demanda == quantidadeEst[i]\n",
        "  else:\n",
        "    modelo += quantidadeSem[i] + quantidadeEst[i - 1] - semanas[i].demanda == quantidadeEst[i]"
      ],
      "metadata": {
        "id": "zR-lqZ_HLPAj"
      },
      "execution_count": null,
      "outputs": []
    },
    {
      "cell_type": "markdown",
      "source": [
        "5) Garante que nenhuma variável seja negativa.\n",
        "\n",
        "$X_i>= 0$ $∀ i E S$\n",
        "\n",
        "$E_i>= 0$ $∀ i E S$\n",
        "\n",
        "$XA_j>= 0$ $∀ j E A$"
      ],
      "metadata": {
        "id": "37Epx7q-LyMo"
      }
    },
    {
      "cell_type": "code",
      "source": [
        "for i in quantidadeSem.keys():\n",
        "  modelo += quantidadeSem[i] >= 0\n",
        "  modelo += quantidadeEst[i] >= 0\n",
        "  if(semanas[i].prodAdicional):\n",
        "    modelo += quantidadeAd[i] >= 0"
      ],
      "metadata": {
        "id": "yQMX0XoOL5WD"
      },
      "execution_count": null,
      "outputs": []
    },
    {
      "cell_type": "markdown",
      "source": [
        "Imprime o modelo."
      ],
      "metadata": {
        "id": "Fezs8Kz8MddD"
      }
    },
    {
      "cell_type": "code",
      "source": [
        "print(modelo)"
      ],
      "metadata": {
        "colab": {
          "base_uri": "https://localhost:8080/"
        },
        "id": "LCtHDybLMf-J",
        "outputId": "1eda7271-e7ec-4b9e-8c05-b6b5a83e24a3"
      },
      "execution_count": null,
      "outputs": [
        {
          "output_type": "stream",
          "name": "stdout",
          "text": [
            "Fábrica_de_Camisetas:\n",
            "MINIMIZE\n",
            "2.8*adicional_1 + 2.8*adicional_2 + 0.2*estoque_1 + 0.2*estoque_2 + 0.2*estoque_3 + 0.2*estoque_4 + 2*semana_1 + 2*semana_2 + 2.5*semana_3 + 2.5*semana_4 + 0.0\n",
            "SUBJECT TO\n",
            "_C1: semana_1 <= 25000\n",
            "\n",
            "_C2: semana_2 <= 25000\n",
            "\n",
            "_C3: semana_3 <= 25000\n",
            "\n",
            "_C4: semana_4 <= 25000\n",
            "\n",
            "_C5: adicional_1 <= 10000\n",
            "\n",
            "_C6: adicional_2 <= 10000\n",
            "\n",
            "_C7: adicional_3 <= 10000\n",
            "\n",
            "_C8: adicional_4 <= 10000\n",
            "\n",
            "_C9: adicional_1 + semana_1 >= 5000\n",
            "\n",
            "_C10: adicional_2 + estoque_1 + semana_2 >= 10000\n",
            "\n",
            "_C11: estoque_2 + semana_3 >= 30000\n",
            "\n",
            "_C12: estoque_3 + semana_4 >= 60000\n",
            "\n",
            "_C13: adicional_1 - estoque_1 + semana_1 = 5000\n",
            "\n",
            "_C14: adicional_2 + estoque_1 - estoque_2 + semana_2 = 10000\n",
            "\n",
            "_C15: estoque_2 - estoque_3 + semana_3 = 30000\n",
            "\n",
            "_C16: estoque_3 - estoque_4 + semana_4 = 60000\n",
            "\n",
            "_C17: semana_1 >= 0\n",
            "\n",
            "_C18: estoque_1 >= 0\n",
            "\n",
            "_C19: adicional_1 >= 0\n",
            "\n",
            "_C20: semana_2 >= 0\n",
            "\n",
            "_C21: estoque_2 >= 0\n",
            "\n",
            "_C22: adicional_2 >= 0\n",
            "\n",
            "_C23: semana_3 >= 0\n",
            "\n",
            "_C24: estoque_3 >= 0\n",
            "\n",
            "_C25: semana_4 >= 0\n",
            "\n",
            "_C26: estoque_4 >= 0\n",
            "\n",
            "VARIABLES\n",
            "adicional_1 Continuous\n",
            "adicional_2 Continuous\n",
            "adicional_3 Continuous\n",
            "adicional_4 Continuous\n",
            "estoque_1 Continuous\n",
            "estoque_2 Continuous\n",
            "estoque_3 Continuous\n",
            "estoque_4 Continuous\n",
            "semana_1 Continuous\n",
            "semana_2 Continuous\n",
            "semana_3 Continuous\n",
            "semana_4 Continuous\n",
            "\n"
          ]
        }
      ]
    },
    {
      "cell_type": "markdown",
      "source": [
        "Solução do problema."
      ],
      "metadata": {
        "id": "slbOAWuaM2lZ"
      }
    },
    {
      "cell_type": "code",
      "source": [
        "status = modelo.solve()\n",
        "\n",
        "print('Status: ', pulp.LpStatus[status])\n",
        "print('Função objetivo: ', pulp.value(modelo.objective))\n",
        "print('Soluções')\n",
        "for semana in semanas.keys():\n",
        "    print('Semana ', semana,' Quantidade produzida: ', quantidadeSem[semana].value())\n",
        "    if(semanas[semana].prodAdicional):\n",
        "      print('Quantidade adicional na semana ', semana, ': ', quantidadeAd[semana].value())\n",
        "    print(' Estoque mantido: ', quantidadeEst[semana].value(), '\\n')"
      ],
      "metadata": {
        "colab": {
          "base_uri": "https://localhost:8080/"
        },
        "id": "1gWiYfX7M5g9",
        "outputId": "be7fae8c-6660-4dbe-f210-aa635aaa211c"
      },
      "execution_count": null,
      "outputs": [
        {
          "output_type": "stream",
          "name": "stdout",
          "text": [
            "Status:  Optimal\n",
            "Função objetivo:  258000.0\n",
            "Soluções\n",
            "Semana  1  Quantidade produzida:  25000.0\n",
            "Quantidade adicional na semana  1 :  0.0\n",
            " Estoque mantido:  20000.0 \n",
            "\n",
            "Semana  2  Quantidade produzida:  25000.0\n",
            "Quantidade adicional na semana  2 :  5000.0\n",
            " Estoque mantido:  40000.0 \n",
            "\n",
            "Semana  3  Quantidade produzida:  25000.0\n",
            " Estoque mantido:  35000.0 \n",
            "\n",
            "Semana  4  Quantidade produzida:  25000.0\n",
            " Estoque mantido:  0.0 \n",
            "\n"
          ]
        }
      ]
    }
  ]
}