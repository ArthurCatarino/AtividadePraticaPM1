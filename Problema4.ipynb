{
  "nbformat": 4,
  "nbformat_minor": 0,
  "metadata": {
    "colab": {
      "provenance": []
    },
    "kernelspec": {
      "name": "python3",
      "display_name": "Python 3"
    },
    "language_info": {
      "name": "python"
    }
  },
  "cells": [
    {
      "cell_type": "markdown",
      "source": [
        "Arthur Catarino de Oliveira  \n",
        "Guilherme Fidélis Freire  \n",
        "Mateus Poddis Correa"
      ],
      "metadata": {
        "id": "2hP8MHW2h2qB"
      }
    },
    {
      "cell_type": "markdown",
      "source": [
        "##Dados\n",
        "- A: Alimentos que podem ser incluídos na dieta.\n",
        "- N: Nutrientes que possuem um máximo desejável na dieta(Gordura e Sódio).\n",
        "- Nmaxj: Limite maximo do nutriente j, j E N\n",
        "- Yij: valor referente ao nutriente j do alimento i, j E N e i E A\n",
        "- Cmax: Custo máximo da dieta em reais.\n",
        "- Kmax: Máximo de kilocalorias na dieta.\n",
        "\n",
        "- minProt: Quantidade mímima de proteína em gramas na dieta.\n",
        "- minCarb: Quantidade mímima de carboidrato em gramas na dieta.\n",
        "- minCal: Quantidade mímima de cálcio em miligramas na dieta.\n",
        "- minFe: Quantidade mímima de ferro em miligramas na dieta.\n",
        "- minVitc: Quantidade mímima de vitamina C em miligramas na dieta.\n",
        "- fatMax: Quantidade máxima desejada de gordura em gramas na dieta.\n",
        "- sodMax: Quantidade máxima desejada de sódio em miligramas na dieta.\n",
        "- precoi, i E A: Preço em reais da porção do alimento i.\n",
        "- Kcali, i E A: Quantidade de kilocalorias da porção do alimento i.\n",
        "- proti, i E A: Quantidade em gramas de proteína na porção do alimento i.\n",
        "- fati, i E A: Quantidade em gramas de gordura na porção do alimento i.\n",
        "- carbi, i E A: Quantidade em gramas de carboidrato na porção do alimento i.\n",
        "- cali, i E A: Quantidade em miligramas de cálcio na porção do alimento i.\n",
        "- fei, i E A: Quantidade em miligramas de ferro na porção do alimento i.\n",
        "- vitCi, i E A: Quantidade em miligramas de vitamina C na porção do alimento i.\n",
        "- sodi, i E A: Quantidade em miligramas de sódio na porção do alimento i.\n",
        "\n",
        "##Variaveis de decisão\n",
        "- Qi, i E A, quantidade de porções do alimento i.\n",
        "\n",
        "##Função Objetivo:\n",
        "$$\n",
        "Minimizar: \\sum_{j E N}^{}-NutMax_j \\sum_{i E A}^{}Q_i*Y_{ji}\n",
        "$$\n",
        "\n",
        "##Restrições:\n",
        "1) Restrição que respeita o preço diário máximo da dieta.\n",
        "$$\n",
        " \\sum_{i E A}^{} Q_i*preco_i <= Cmax\n",
        "$$\n",
        "2) Restrição que respeita o máximo de kilocalorias da dieta.\n",
        "$$\n",
        " \\sum_{i E A}^{} Q_i*Kcal_i <= Kmax\n",
        "$$\n",
        "3) Restrição que garante o mínimo de proteína na dieta.\n",
        "$$\n",
        " \\sum_{i E A}^{} Q_i*prot_i >= minProt\n",
        "$$\n",
        "4) Restrição que garante o mínimo de carboidrato na dieta.\n",
        "$$\n",
        " \\sum_{i E A}^{} Q_i*carb_i >= minCarb\n",
        "$$\n",
        "5) Restrição que garante o mínimo de cálcio na dieta.\n",
        "$$\n",
        " \\sum_{i E A}^{} Q_i*cal_i >= minCal\n",
        "$$\n",
        "\n",
        "6) Restrição que garante o mínimo de ferro na dieta.\n",
        "$$\n",
        " \\sum_{i E A}^{} Q_i*fe_i >= minFe\n",
        "$$\n",
        "7) Restrição que garante o mínimo de vitamina C na dieta.\n",
        "$$\n",
        " \\sum_{i E A}^{} Q_i*vitC_i >= minVitC\n",
        "$$\n",
        "10) Restrição de não negatividade.\n",
        "$Q_i >= 0$ $∀ i E A$\n",
        "\n",
        "$X_j >= 0$ $∀ j E N$"
      ],
      "metadata": {
        "id": "VZwlkxUSh5nO"
      }
    },
    {
      "cell_type": "code",
      "source": [
        "!pip install pulp\n",
        "import pulp"
      ],
      "metadata": {
        "id": "WJ-3S5jL9Sl6"
      },
      "execution_count": null,
      "outputs": []
    },
    {
      "cell_type": "markdown",
      "source": [
        "Para esse problema é criado um classe Alimento para pegar os dados de dieta.json. E eles são armazenados em um dicionário (id, Alimento). Além disso são criadas variáveis para pegar os parametros também. Obs: Depois de rodar uma vez e escolher o arquivo dieta.json, a linha \"uploaded = files.upload()\" pode ser excluída."
      ],
      "metadata": {
        "id": "1dIphjlT6pwJ"
      }
    },
    {
      "cell_type": "code",
      "execution_count": null,
      "metadata": {
        "id": "jAi3gobmhBou"
      },
      "outputs": [],
      "source": [
        "from google.colab import files\n",
        "import json\n",
        "\n",
        "uploaded = files.upload()\n",
        "\n",
        "class Alimento:\n",
        "    def __init__(self, id, nome, preco, kcal, proteina, gordura, carboidrato,\n",
        "                 calcio, ferro, vitaminaC, sodio, porcao):\n",
        "        self.id = id\n",
        "        self.nome = nome\n",
        "        self.preco = preco\n",
        "        self.kcal = kcal\n",
        "        self.proteina = proteina\n",
        "        self.gordura = gordura\n",
        "        self.carboidrato = carboidrato\n",
        "        self.calcio = calcio\n",
        "        self.ferro = ferro\n",
        "        self.vitaminaC = vitaminaC\n",
        "        self.sodio = sodio\n",
        "        self.porcao = porcao\n",
        "\n",
        "with open(\"dieta.json\", \"r\", encoding=\"utf-8\") as f:\n",
        "    data = json.load(f)\n",
        "\n",
        "params = data[\"params\"]\n",
        "Kmax = params[\"Kmax\"]\n",
        "Cmax = params[\"Cmax\"]\n",
        "minProt = params[\"min_prot\"]\n",
        "minCarb = params[\"min_carb\"]\n",
        "minCal = params[\"min_cal\"]\n",
        "minFe = params[\"min_fe\"]\n",
        "minVitc = params[\"min_vitc\"]\n",
        "fatMax = params[\"fat_max\"]*1000\n",
        "sodMax = params[\"sod_max\"]\n",
        "\n",
        "alimentos = {\n",
        "    item[\"id\"]: Alimento(**item) for item in data[\"alimentos\"]\n",
        "}\n",
        "\n",
        "for a in alimentos:\n",
        "  alimentos[a].gordura = alimentos[a].gordura*1000\n",
        "\n",
        "NutrientesComRestrição = {\"gordura\":50*1000,\n",
        "                          \"sodio\":2300}"
      ]
    },
    {
      "cell_type": "markdown",
      "source": [
        "Inicializando o modelo"
      ],
      "metadata": {
        "id": "C-y-3Q609EcH"
      }
    },
    {
      "cell_type": "code",
      "source": [
        "modelo = pulp.LpProblem('Dieta', pulp.LpMinimize)\n",
        "quantidadePorcao = pulp.LpVariable.dicts('quantidade porção', list(alimentos.keys()), lowBound=0)"
      ],
      "metadata": {
        "id": "WXFP4OTO9FRW"
      },
      "execution_count": null,
      "outputs": []
    },
    {
      "cell_type": "code",
      "source": [
        "restricoes = []\n",
        "for n in NutrientesComRestrição.keys():\n",
        "    expressao = pulp.lpSum([quantidadePorcao[i] * getattr(alimentos[i], n) for i in alimentos])\n",
        "    restricoes.append(expressao - NutrientesComRestrição[n])\n",
        "\n",
        "modelo += pulp.lpSum(restricoes)"
      ],
      "metadata": {
        "id": "IPL6_R6MxgvR"
      },
      "execution_count": null,
      "outputs": []
    },
    {
      "cell_type": "markdown",
      "source": [
        "##Função Objetivo:\n",
        "$$\n",
        "Minimizar: \\sum_{j E N}^{}-NutMax_j \\sum_{i E A}^{}Q_i*Y_{ji}\n",
        "$$"
      ],
      "metadata": {
        "id": "auFpsdN--O8g"
      }
    },
    {
      "cell_type": "code",
      "source": [
        "restricoes = []\n",
        "for n in NutrientesComRestrição.keys():\n",
        "    expressao = pulp.lpSum([quantidadePorcao[i] * getattr(alimentos[i], n) for i in alimentos])\n",
        "    restricoes.append(expressao - NutrientesComRestrição[n])\n",
        "\n",
        "modelo += pulp.lpSum(restricoes)"
      ],
      "metadata": {
        "id": "kJ1yHKIR1HWA"
      },
      "execution_count": null,
      "outputs": []
    },
    {
      "cell_type": "markdown",
      "source": [
        "Restrições:"
      ],
      "metadata": {
        "id": "5Jtdrg-r_GUU"
      }
    },
    {
      "cell_type": "markdown",
      "source": [
        "1) $\\sum_{i E A}^{} Q_i*preco_i$ <= Cmax   (Custo máximo).\n"
      ],
      "metadata": {
        "id": "dvhe0qYX_HEZ"
      }
    },
    {
      "cell_type": "code",
      "source": [
        "modelo += pulp.lpSum(quantidadePorcao[i] * alimentos[i].preco for i in alimentos) <= Cmax"
      ],
      "metadata": {
        "id": "Dw9WAS1r_ajo"
      },
      "execution_count": null,
      "outputs": []
    },
    {
      "cell_type": "markdown",
      "source": [
        "2) $\\sum_{i E A}^{} Q_i*Kcal_i$ <= Kmax (Máximo de kcal)."
      ],
      "metadata": {
        "id": "llvCSvM0_iI8"
      }
    },
    {
      "cell_type": "code",
      "source": [
        "modelo += pulp.lpSum(quantidadePorcao[i] * alimentos[i].kcal for i in alimentos) <= Kmax"
      ],
      "metadata": {
        "id": "t6DkjutL_y0U"
      },
      "execution_count": null,
      "outputs": []
    },
    {
      "cell_type": "markdown",
      "source": [
        "3) $\\sum_{i E A}^{} Q_i*prot_i$ >= minProt (Mínimo de proteína)."
      ],
      "metadata": {
        "id": "Q3a9_rld_2jq"
      }
    },
    {
      "cell_type": "code",
      "source": [
        "modelo += pulp.lpSum(quantidadePorcao[i] * alimentos[i].proteina for i in alimentos) >= minProt"
      ],
      "metadata": {
        "id": "ADY-EdJqAW4g"
      },
      "execution_count": null,
      "outputs": []
    },
    {
      "cell_type": "markdown",
      "source": [
        "4) $\\sum_{i E A}^{} Q_i*carb_i$ >= minCarb (Mínimo de carboidrato)."
      ],
      "metadata": {
        "id": "4lQlA1_-AaHh"
      }
    },
    {
      "cell_type": "code",
      "source": [
        "modelo += pulp.lpSum(quantidadePorcao[i] * alimentos[i].carboidrato for i in alimentos) >= minCarb"
      ],
      "metadata": {
        "id": "iGhTG6JgAo7d"
      },
      "execution_count": null,
      "outputs": []
    },
    {
      "cell_type": "markdown",
      "source": [
        "5) $\\sum_{i E A}^{} Q_i*cal_i$ >= minCal (Mínimo de cálcio)."
      ],
      "metadata": {
        "id": "mqWDme0uHMTL"
      }
    },
    {
      "cell_type": "code",
      "source": [
        "modelo += pulp.lpSum(quantidadePorcao[i] * alimentos[i].calcio for i in alimentos) >= minCal"
      ],
      "metadata": {
        "id": "hdF9QPtdHbEM"
      },
      "execution_count": null,
      "outputs": []
    },
    {
      "cell_type": "markdown",
      "source": [
        "6) $\\sum_{i E A}^{} Q_i*fe_i$ >= minFe (Mínimo de ferro)."
      ],
      "metadata": {
        "id": "Fn2hYkuQHgWC"
      }
    },
    {
      "cell_type": "code",
      "source": [
        "modelo += pulp.lpSum(quantidadePorcao[i] * alimentos[i].ferro for i in alimentos) >= minFe"
      ],
      "metadata": {
        "id": "BLmxZdXzHv0b"
      },
      "execution_count": null,
      "outputs": []
    },
    {
      "cell_type": "markdown",
      "source": [
        "7) $\\sum_{i E A}^{} Q_i*vitC_i$ >= minVitC (Mínimo de vitamina C)."
      ],
      "metadata": {
        "id": "Fhu41ykUH66J"
      }
    },
    {
      "cell_type": "code",
      "source": [
        "modelo += pulp.lpSum(quantidadePorcao[i] * alimentos[i].vitaminaC for i in alimentos) >= minVitc"
      ],
      "metadata": {
        "id": "RltUNQBWIJSd"
      },
      "execution_count": null,
      "outputs": []
    },
    {
      "cell_type": "markdown",
      "source": [
        "8) Restrição de não negatividade.\n",
        "\n",
        "$Q_i >= 0$ $∀ i E A$\n",
        "\n",
        "$X_j >= 0$ $∀ j E N$"
      ],
      "metadata": {
        "id": "_hqcxLDAKyow"
      }
    },
    {
      "cell_type": "code",
      "source": [
        "print(modelo)"
      ],
      "metadata": {
        "colab": {
          "base_uri": "https://localhost:8080/"
        },
        "id": "JBSY6jWoJG6E",
        "outputId": "61ab1df6-8e29-451d-ee41-aff8728a8643"
      },
      "execution_count": null,
      "outputs": [
        {
          "output_type": "stream",
          "name": "stdout",
          "text": [
            "Dieta:\n",
            "MINIMIZE\n",
            "1000.0*quantidade_porção_1 + 10000.0*quantidade_porção_10 + 110.0*quantidade_porção_11 + 1500.0*quantidade_porção_12 + 215.0*quantidade_porção_13 + 105.0*quantidade_porção_14 + 206.0*quantidade_porção_15 + 560.0*quantidade_porção_16 + 310.0*quantidade_porção_17 + 208.0*quantidade_porção_18 + 100.0*quantidade_porção_19 + 501.0*quantidade_porção_2 + 300.0*quantidade_porção_20 + 15010.0*quantidade_porção_21 + 18002.0*quantidade_porção_22 + 16000.0*quantidade_porção_23 + 500.0*quantidade_porção_24 + 401.0*quantidade_porção_25 + 3000.0*quantidade_porção_26 + 500.0*quantidade_porção_27 + 10000.0*quantidade_porção_28 + 9080.0*quantidade_porção_29 + 2000.0*quantidade_porção_3 + 3030.0*quantidade_porção_30 + 3500.0*quantidade_porção_4 + 5000.0*quantidade_porção_5 + 3002.0*quantidade_porção_6 + 7000.0*quantidade_porção_7 + 15000.0*quantidade_porção_8 + 2500.0*quantidade_porção_9 + -52300.0\n",
            "SUBJECT TO\n",
            "_C1: 0.5 quantidade_porção_1 + 1.8 quantidade_porção_10\n",
            " + 0.8 quantidade_porção_11 + 0.9 quantidade_porção_12\n",
            " + 0.5 quantidade_porção_13 + 0.4 quantidade_porção_14\n",
            " + 0.6 quantidade_porção_15 + 0.8 quantidade_porção_16\n",
            " + 0.5 quantidade_porção_17 + 0.7 quantidade_porção_18\n",
            " + 0.6 quantidade_porção_19 + 0.7 quantidade_porção_2\n",
            " + 0.8 quantidade_porção_20 + 1.2 quantidade_porção_21\n",
            " + 1.5 quantidade_porção_22 + quantidade_porção_23 + 0.8 quantidade_porção_24\n",
            " + 0.9 quantidade_porção_25 + 0.7 quantidade_porção_26\n",
            " + 0.6 quantidade_porção_27 + quantidade_porção_28 + 0.7 quantidade_porção_29\n",
            " + 0.4 quantidade_porção_3 + 0.9 quantidade_porção_30 + 2 quantidade_porção_4\n",
            " + 0.6 quantidade_porção_5 + 1.2 quantidade_porção_6 + 1.5 quantidade_porção_7\n",
            " + 2.5 quantidade_porção_8 + 2.2 quantidade_porção_9 <= 20\n",
            "\n",
            "_C2: 130 quantidade_porção_1 + 180 quantidade_porção_10\n",
            " + 100 quantidade_porção_11 + 200 quantidade_porção_12\n",
            " + 25 quantidade_porção_13 + 15 quantidade_porção_14 + 40 quantidade_porção_15\n",
            " + 50 quantidade_porção_16 + 90 quantidade_porção_17 + 80 quantidade_porção_18\n",
            " + 70 quantidade_porção_19 + 120 quantidade_porção_2 + 85 quantidade_porção_20\n",
            " + 160 quantidade_porção_21 + 200 quantidade_porção_22\n",
            " + 190 quantidade_porção_23 + 110 quantidade_porção_24\n",
            " + 115 quantidade_porção_25 + 150 quantidade_porção_26\n",
            " + 100 quantidade_porção_27 + 90 quantidade_porção_28\n",
            " + 80 quantidade_porção_29 + 150 quantidade_porção_3\n",
            " + 120 quantidade_porção_30 + 165 quantidade_porção_4 + 70 quantidade_porção_5\n",
            " + 95 quantidade_porção_6 + 110 quantidade_porção_7 + 250 quantidade_porção_8\n",
            " + 120 quantidade_porção_9 <= 1600\n",
            "\n",
            "_C3: 2.5 quantidade_porção_1 + 20 quantidade_porção_10\n",
            " + 2 quantidade_porção_11 + 7 quantidade_porção_12 + quantidade_porção_13\n",
            " + quantidade_porção_14 + quantidade_porção_15 + 4 quantidade_porção_16\n",
            " + quantidade_porção_17 + 0.5 quantidade_porção_18 + quantidade_porção_19\n",
            " + 8 quantidade_porção_2 + quantidade_porção_20 + 2 quantidade_porção_21\n",
            " + 5 quantidade_porção_22 + 8 quantidade_porção_23 + 9 quantidade_porção_24\n",
            " + 9 quantidade_porção_25 + 5 quantidade_porção_26 + 3 quantidade_porção_27\n",
            " + 5 quantidade_porção_3 + 2 quantidade_porção_30 + 31 quantidade_porção_4\n",
            " + 6 quantidade_porção_5 + 6 quantidade_porção_6 + 7 quantidade_porção_7\n",
            " + 26 quantidade_porção_8 + 23 quantidade_porção_9 >= 60\n",
            "\n",
            "_C4: 28 quantidade_porção_1 + 23 quantidade_porção_11\n",
            " + 42 quantidade_porção_12 + 6 quantidade_porção_13 + 2 quantidade_porção_14\n",
            " + 10 quantidade_porção_15 + 10 quantidade_porção_16 + 23 quantidade_porção_17\n",
            " + 22 quantidade_porção_18 + 18 quantidade_porção_19 + 20 quantidade_porção_2\n",
            " + 20 quantidade_porção_20 + 9 quantidade_porção_21 + 6 quantidade_porção_22\n",
            " + 6 quantidade_porção_23 + 19 quantidade_porção_24 + 20 quantidade_porção_25\n",
            " + 27 quantidade_porção_26 + 21 quantidade_porção_27 + 28 quantidade_porção_3\n",
            " + 22 quantidade_porção_30 + 10 quantidade_porção_6 + quantidade_porção_7\n",
            " >= 130\n",
            "\n",
            "_C5: 10 quantidade_porção_1 + 300 quantidade_porção_10\n",
            " + 15 quantidade_porção_11 + 20 quantidade_porção_12 + 10 quantidade_porção_13\n",
            " + 35 quantidade_porção_14 + 25 quantidade_porção_15 + 47 quantidade_porção_16\n",
            " + 5 quantidade_porção_17 + 8 quantidade_porção_18 + 40 quantidade_porção_19\n",
            " + 45 quantidade_porção_2 + 30 quantidade_porção_20 + 15 quantidade_porção_21\n",
            " + 30 quantidade_porção_22 + 25 quantidade_porção_23 + 45 quantidade_porção_24\n",
            " + 40 quantidade_porção_25 + 50 quantidade_porção_26 + 15 quantidade_porção_27\n",
            " + 20 quantidade_porção_3 + 20 quantidade_porção_30 + 15 quantidade_porção_4\n",
            " + 25 quantidade_porção_5 + 150 quantidade_porção_6 + 220 quantidade_porção_7\n",
            " + 20 quantidade_porção_8 + 10 quantidade_porção_9 >= 1000\n",
            "\n",
            "_C6: 0.2 quantidade_porção_1 + 2 quantidade_porção_10\n",
            " + 0.5 quantidade_porção_11 + 0.7 quantidade_porção_12\n",
            " + 0.3 quantidade_porção_13 + 0.4 quantidade_porção_14\n",
            " + 0.3 quantidade_porção_15 + quantidade_porção_16 + 0.3 quantidade_porção_17\n",
            " + 0.1 quantidade_porção_18 + 0.2 quantidade_porção_19\n",
            " + 2.1 quantidade_porção_2 + 0.3 quantidade_porção_20\n",
            " + 0.6 quantidade_porção_21 + quantidade_porção_22 + 1.2 quantidade_porção_23\n",
            " + 2.5 quantidade_porção_24 + 3 quantidade_porção_25 + quantidade_porção_26\n",
            " + 0.5 quantidade_porção_27 + quantidade_porção_3 + 0.5 quantidade_porção_30\n",
            " + quantidade_porção_4 + 0.9 quantidade_porção_5 + 0.1 quantidade_porção_6\n",
            " + 0.2 quantidade_porção_7 + 2.5 quantidade_porção_8 + 0.5 quantidade_porção_9\n",
            " >= 8\n",
            "\n",
            "_C7: 10 quantidade_porção_11 + 15 quantidade_porção_13\n",
            " + 5 quantidade_porção_14 + 6 quantidade_porção_15 + 60 quantidade_porção_16\n",
            " + 10 quantidade_porção_17 + 8 quantidade_porção_18 + 60 quantidade_porção_19\n",
            " + quantidade_porção_2 + 90 quantidade_porção_20 + 10 quantidade_porção_21\n",
            " + 2 quantidade_porção_22 + quantidade_porção_25 + 2 quantidade_porção_6 >= 75\n",
            "\n",
            "VARIABLES\n",
            "quantidade_porção_1 Continuous\n",
            "quantidade_porção_10 Continuous\n",
            "quantidade_porção_11 Continuous\n",
            "quantidade_porção_12 Continuous\n",
            "quantidade_porção_13 Continuous\n",
            "quantidade_porção_14 Continuous\n",
            "quantidade_porção_15 Continuous\n",
            "quantidade_porção_16 Continuous\n",
            "quantidade_porção_17 Continuous\n",
            "quantidade_porção_18 Continuous\n",
            "quantidade_porção_19 Continuous\n",
            "quantidade_porção_2 Continuous\n",
            "quantidade_porção_20 Continuous\n",
            "quantidade_porção_21 Continuous\n",
            "quantidade_porção_22 Continuous\n",
            "quantidade_porção_23 Continuous\n",
            "quantidade_porção_24 Continuous\n",
            "quantidade_porção_25 Continuous\n",
            "quantidade_porção_26 Continuous\n",
            "quantidade_porção_27 Continuous\n",
            "quantidade_porção_28 Continuous\n",
            "quantidade_porção_29 Continuous\n",
            "quantidade_porção_3 Continuous\n",
            "quantidade_porção_30 Continuous\n",
            "quantidade_porção_4 Continuous\n",
            "quantidade_porção_5 Continuous\n",
            "quantidade_porção_6 Continuous\n",
            "quantidade_porção_7 Continuous\n",
            "quantidade_porção_8 Continuous\n",
            "quantidade_porção_9 Continuous\n",
            "\n"
          ]
        }
      ]
    },
    {
      "cell_type": "markdown",
      "source": [
        "Solução do problema."
      ],
      "metadata": {
        "id": "eZgifAGJJJ84"
      }
    },
    {
      "cell_type": "code",
      "source": [
        "status = modelo.solve()\n",
        "\n",
        "print(f'Status: {pulp.LpStatus[status]}')\n",
        "print(f'Função objetivo: {pulp.value(modelo.objective)}')\n",
        "for i in alimentos:\n",
        "    print(f'Q{i}: {pulp.value(quantidadePorcao[i])}')"
      ],
      "metadata": {
        "colab": {
          "base_uri": "https://localhost:8080/"
        },
        "id": "rwMBNrGGJPSv",
        "outputId": "c091bb69-7be0-40ab-fac2-51e56f363033"
      },
      "execution_count": null,
      "outputs": [
        {
          "output_type": "stream",
          "name": "stdout",
          "text": [
            "Status: Optimal\n",
            "Função objetivo: -48388.5857166\n",
            "Q1: 0.0\n",
            "Q2: 0.0\n",
            "Q3: 0.0\n",
            "Q4: 0.0\n",
            "Q5: 0.0\n",
            "Q6: 0.0\n",
            "Q7: 0.0\n",
            "Q8: 0.0\n",
            "Q9: 0.0\n",
            "Q10: 0.0\n",
            "Q11: 0.0\n",
            "Q12: 0.0\n",
            "Q13: 0.0\n",
            "Q14: 7.3876872\n",
            "Q15: 0.0\n",
            "Q16: 0.0\n",
            "Q17: 0.0\n",
            "Q18: 0.0\n",
            "Q19: 14.276206\n",
            "Q20: 0.0\n",
            "Q21: 0.0\n",
            "Q22: 0.0\n",
            "Q23: 0.0\n",
            "Q24: 0.0\n",
            "Q25: 4.2595674\n",
            "Q26: 0.0\n",
            "Q27: 0.0\n",
            "Q28: 0.0\n",
            "Q29: 0.0\n",
            "Q30: 0.0\n"
          ]
        }
      ]
    }
  ]
}