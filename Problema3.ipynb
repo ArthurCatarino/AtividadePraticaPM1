{
  "nbformat": 4,
  "nbformat_minor": 0,
  "metadata": {
    "colab": {
      "provenance": []
    },
    "kernelspec": {
      "name": "python3",
      "display_name": "Python 3"
    },
    "language_info": {
      "name": "python"
    }
  },
  "cells": [
    {
      "cell_type": "markdown",
      "source": [
        "Arthur Catarino de Oliveira                               \n",
        "Guilherme Fidélis Freire                                           \n",
        "Mateus Poddis Correa"
      ],
      "metadata": {
        "id": "3qe8DPvAhTP9"
      }
    },
    {
      "cell_type": "markdown",
      "source": [
        "Este notebook resolve um problema de alocação de recursos para construção de residências, maximizando a arrecadação de impostos dentro de restrições de área e financiamento."
      ],
      "metadata": {
        "id": "yYUDz1pFht7a"
      }
    },
    {
      "cell_type": "code",
      "source": [
        "!pip install pulp\n",
        "import pulp"
      ],
      "metadata": {
        "colab": {
          "base_uri": "https://localhost:8080/"
        },
        "id": "k3RnkcQVk-AV",
        "outputId": "4a91a849-2226-4786-fd47-bd11cd39b30d"
      },
      "execution_count": null,
      "outputs": [
        {
          "output_type": "stream",
          "name": "stdout",
          "text": [
            "Collecting pulp\n",
            "  Downloading pulp-3.3.0-py3-none-any.whl.metadata (8.4 kB)\n",
            "Downloading pulp-3.3.0-py3-none-any.whl (16.4 MB)\n",
            "\u001b[2K   \u001b[90m━━━━━━━━━━━━━━━━━━━━━━━━━━━━━━━━━━━━━━━━\u001b[0m \u001b[32m16.4/16.4 MB\u001b[0m \u001b[31m80.2 MB/s\u001b[0m eta \u001b[36m0:00:00\u001b[0m\n",
            "\u001b[?25hInstalling collected packages: pulp\n",
            "Successfully installed pulp-3.3.0\n"
          ]
        }
      ]
    },
    {
      "cell_type": "markdown",
      "source": [
        "## Dados\n",
        "\n",
        "- `area[i]`: área ocupada pelo tipo de residência *i*.  \n",
        "- `custo[i]`: custo de construção da residência *i*.  \n",
        "- `imposto[i]`: imposto arrecadado por cada residência do tipo *i*.  \n",
        "- `financiamento`: valor máximo de financiamento disponível.  \n"
      ],
      "metadata": {
        "id": "Nid9S7UdjMoF"
      }
    },
    {
      "cell_type": "code",
      "source": [
        "area  = [0.18, 0.28, 0.4, 0.5] #area para construir cada tipo de residência\n",
        "custo = [50000, 70000, 130000, 160000] # custo para contruir cada residência\n",
        "imposto = [1000, 1900, 2700, 3400] # imposto arrecadado por cada residência\n",
        "financiamento = 150000000\n",
        "n = len(area)"
      ],
      "metadata": {
        "id": "LprkZzcVlJ0O"
      },
      "execution_count": null,
      "outputs": []
    },
    {
      "cell_type": "markdown",
      "source": [
        "## Variáveis de decisão\n",
        "\n",
        "- `x[i]`: quantidade de residências do tipo *i* a serem construídas.  \n",
        "- `D`: Numero de casas a serem demolidas"
      ],
      "metadata": {
        "id": "n6EYMFBajQNc"
      }
    },
    {
      "cell_type": "code",
      "source": [
        "modelo = pulp.LpProblem('ConstrucaoDeResidências', pulp.LpMaximize)\n",
        "\n",
        "x = pulp.LpVariable.dicts(\"x\", range(n), lowBound=0, cat=pulp.LpInteger)\n",
        "D = pulp.LpVariable(\"D\", lowBound=0, cat=pulp.LpInteger)"
      ],
      "metadata": {
        "id": "o7WPuaQvlNbJ"
      },
      "execution_count": null,
      "outputs": []
    },
    {
      "cell_type": "markdown",
      "source": [
        "## Função Objetivo\n",
        "\n",
        "Maximizar a arrecadação de impostos:\n",
        "\n",
        "$$\n",
        "Z \\;=\\; \\sum_{i=0}^{n-1} x_i \\cdot imposto_i\n",
        "$$"
      ],
      "metadata": {
        "id": "hc_heSEcjfcJ"
      }
    },
    {
      "cell_type": "code",
      "source": [
        "modelo += pulp.lpSum([x[i] * imposto[i] for i in range(n)]), \"ArrecadacaoTotal\""
      ],
      "metadata": {
        "id": "-iUY4Mhmla3y"
      },
      "execution_count": null,
      "outputs": []
    },
    {
      "cell_type": "markdown",
      "source": [
        "## Restrições\n",
        "\n",
        "1. **Área disponível em função das casas a serem demolidas**  \n",
        "   $$\n",
        "   \\sum_{i=0}^{n-1} x_i \\cdot area_i \\le 0.25 \\cdot 0.85 \\cdot D\n",
        "   $$\n",
        "\n",
        "2. **Custo total de construção **  \n",
        "   $$\n",
        "   \\sum_{i=0}^{n-1} x_i \\cdot custo_i + 2000 \\cdot D \\le financiamento\n",
        "   $$\n",
        "\n",
        "3. **Proporção mínima de tipos de residências**\n",
        "\n",
        "   - Tipo 0 ocupa pelo menos 20% da área construída:  \n",
        "     $$x_0 \\cdot area_0 \\ge 0.2 \\cdot \\sum_{i=0}^{n-1} x_i \\cdot area_i$$\n",
        "\n",
        "   - Tipo 1 ocupa pelo menos 10% da área construída:  \n",
        "     $$x_1 \\cdot area_1 \\ge 0.1 \\cdot \\sum_{i=0}^{n-1} x_i \\cdot area_i$$\n",
        "\n",
        "   - Tipos 2 e 3 juntos ocupam pelo menos 25% da área construída:  \n",
        "     $$(x_2 \\cdot area_2 + x_3 \\cdot area_3) \\ge 0.25 \\cdot \\sum_{i=0}^{n-1} x_i \\cdot area_i$$\n",
        "\n",
        "4. **Limite de casas a serem demolidas**  \n",
        "   $$D \\le 300$$"
      ],
      "metadata": {
        "id": "MuHUFcpbjqRs"
      }
    },
    {
      "cell_type": "code",
      "source": [
        "modelo += pulp.lpSum([x[i] * area[i] for i in range(n)]) <= D * 0.25 * 0.85\n",
        "modelo += pulp.lpSum([x[i] * custo[i] for i in range(n)]) + (D * 2000) <= financiamento\n",
        "modelo += x[0] * area[0] >= 0.2 * pulp.lpSum([x[i] * area[i] for i in range(n)])\n",
        "modelo += x[1] * area[1] >= 0.1 * pulp.lpSum([x[i] * area[i] for i in range(n)])\n",
        "modelo += x[2] * area[2] + x[3] * area[3] >= 0.2 * pulp.lpSum([x[i] * area[i] for i in range(n)])\n",
        "modelo += D <= 300"
      ],
      "metadata": {
        "id": "-qnkkZkplePg"
      },
      "execution_count": null,
      "outputs": []
    },
    {
      "cell_type": "markdown",
      "source": [
        "Solução do problema:"
      ],
      "metadata": {
        "id": "Op8arEvol8Zl"
      }
    },
    {
      "cell_type": "code",
      "source": [
        "modelo.solve()\n",
        "\n",
        "print(\"Status:\", pulp.LpStatus[modelo.status])\n",
        "print(\"Simples    =\", int(round(x[0].value())))\n",
        "print(\"Duplos     =\", int(round(x[1].value())))\n",
        "print(\"Triplos    =\", int(round(x[2].value())))\n",
        "print(\"Quádruplos =\", int(round(x[3].value())))\n",
        "print(\"Casas demolidas   =\", int(round(D.value())))\n",
        "print(\"Arrecadação Total =\", round(pulp.value(modelo.objective), 2))"
      ],
      "metadata": {
        "colab": {
          "base_uri": "https://localhost:8080/"
        },
        "id": "mEKnd43Sjqx6",
        "outputId": "e2122a1e-9f4c-411d-ef59-1724afe842c8"
      },
      "execution_count": null,
      "outputs": [
        {
          "output_type": "stream",
          "name": "stdout",
          "text": [
            "Status: Optimal\n",
            "Simples    = 71\n",
            "Duplos     = 27\n",
            "Triplos    = 1\n",
            "Quádruplos = 86\n",
            "Casas demolidas   = 300\n",
            "Arrecadação Total = 417400.0\n"
          ]
        }
      ]
    }
  ]
}